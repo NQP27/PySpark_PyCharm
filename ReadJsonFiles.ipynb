{
 "cells": [
  {
   "cell_type": "code",
   "execution_count": 83,
   "metadata": {
    "collapsed": true
   },
   "outputs": [],
   "source": [
    "from pyspark.sql import *\n",
    "from pyspark.sql.types import *\n",
    "from Packages import sparkBuilder as sB"
   ]
  },
  {
   "cell_type": "code",
   "execution_count": 84,
   "outputs": [],
   "source": [
    "if __name__==\"__main__\":\n",
    "    spark=sB.build()  #Xây SparkSession thì mới chạy được trên PyCharm"
   ],
   "metadata": {
    "collapsed": false
   }
  },
  {
   "cell_type": "code",
   "execution_count": 85,
   "outputs": [
    {
     "name": "stdout",
     "output_type": "stream",
     "text": [
      "+---+---------+------------+\n",
      "| id|     name|number plate|\n",
      "+---+---------+------------+\n",
      "|  1|Thai Binh|          17|\n",
      "|  2|   Ha Noi|      29, 30|\n",
      "|  3|Hai Phong|          14|\n",
      "+---+---------+------------+\n",
      "\n"
     ]
    },
    {
     "data": {
      "text/plain": "3"
     },
     "execution_count": 85,
     "metadata": {},
     "output_type": "execute_result"
    }
   ],
   "source": [
    "df=spark.read.json(path=\"E:\\Worksapce\\PyCharm\\PySpark\\SampleData\\\\*.json\",multiLine=True)\n",
    "# multiline = True : Đọc nhiều dòng trong file json\n",
    "# *.json: Đọc tất cả các file json trong folder SampleData (chỉ đọc file json)\n",
    "df.show()\n",
    "df.count()\n",
    "# df.printSchema()"
   ],
   "metadata": {
    "collapsed": false
   }
  },
  {
   "cell_type": "code",
   "execution_count": 85,
   "outputs": [],
   "source": [],
   "metadata": {
    "collapsed": false
   }
  }
 ],
 "metadata": {
  "kernelspec": {
   "display_name": "Python 3",
   "language": "python",
   "name": "python3"
  },
  "language_info": {
   "codemirror_mode": {
    "name": "ipython",
    "version": 2
   },
   "file_extension": ".py",
   "mimetype": "text/x-python",
   "name": "python",
   "nbconvert_exporter": "python",
   "pygments_lexer": "ipython2",
   "version": "2.7.6"
  }
 },
 "nbformat": 4,
 "nbformat_minor": 0
}
