{
 "cells": [
  {
   "cell_type": "code",
   "execution_count": 39,
   "metadata": {
    "collapsed": true
   },
   "outputs": [],
   "source": [
    "from pyspark.sql import SparkSession\n",
    "from pyspark.sql.types import *\n",
    "from Packages import sparkBuilder as sB"
   ]
  },
  {
   "cell_type": "code",
   "execution_count": 40,
   "outputs": [],
   "source": [
    "if __name__==\"__main__\":\n",
    "    spark=sB.build()  #Xây SparkSession thì mới chạy được trên PyCharm"
   ],
   "metadata": {
    "collapsed": false
   }
  },
  {
   "cell_type": "code",
   "execution_count": 41,
   "outputs": [
    {
     "name": "stdout",
     "output_type": "stream",
     "text": [
      "+---+-----+\n",
      "| id| name|\n",
      "+---+-----+\n",
      "|  1|Phuoc|\n",
      "|  2|  Loc|\n",
      "+---+-----+\n",
      "\n"
     ]
    }
   ],
   "source": [
    "data=[(1,'Phuoc'),(2,'Loc')]\n",
    "columns=StructType([StructField('id',IntegerType()),\\\n",
    "                    StructField('name',StringType())])\n",
    "df=spark.createDataFrame(data=data,schema=columns)\n",
    "df.show()"
   ],
   "metadata": {
    "collapsed": false
   }
  },
  {
   "cell_type": "code",
   "execution_count": 42,
   "outputs": [
    {
     "name": "stdout",
     "output_type": "stream",
     "text": [
      "root\n",
      " |-- id: integer (nullable = true)\n",
      " |-- name: string (nullable = true)\n",
      "\n"
     ]
    }
   ],
   "source": [
    "df.printSchema()"
   ],
   "metadata": {
    "collapsed": false
   }
  },
  {
   "cell_type": "code",
   "execution_count": 43,
   "outputs": [
    {
     "name": "stdout",
     "output_type": "stream",
     "text": [
      "+---+--------------+\n",
      "| id|          name|\n",
      "+---+--------------+\n",
      "|  1|{Quang, Phuoc}|\n",
      "|  2|   {Minh, Loc}|\n",
      "+---+--------------+\n",
      "\n",
      "root\n",
      " |-- id: integer (nullable = true)\n",
      " |-- name: struct (nullable = true)\n",
      " |    |-- middleName: string (nullable = true)\n",
      " |    |-- lastName: string (nullable = true)\n",
      "\n"
     ]
    }
   ],
   "source": [
    "data1=[(1,('Quang','Phuoc')),(2,('Minh','Loc'))]\n",
    "structName=StructType([StructField('middleName',StringType()),\\\n",
    "                      StructField('lastName',StringType())])\n",
    "columns1=StructType([StructField('id',IntegerType()),\\\n",
    "                    StructField('name',structName)])\n",
    "df1=spark.createDataFrame(data=data1,schema=columns1)\n",
    "df1.show()\n",
    "df1.printSchema()"
   ],
   "metadata": {
    "collapsed": false
   }
  },
  {
   "cell_type": "code",
   "execution_count": 44,
   "outputs": [
    {
     "data": {
      "text/plain": "DataFrame[id: int, name: struct<middleName:string,lastName:string>]"
     },
     "metadata": {},
     "output_type": "display_data"
    }
   ],
   "source": [
    "display(df1)"
   ],
   "metadata": {
    "collapsed": false
   }
  },
  {
   "cell_type": "code",
   "execution_count": null,
   "outputs": [],
   "source": [],
   "metadata": {
    "collapsed": false
   }
  }
 ],
 "metadata": {
  "kernelspec": {
   "display_name": "Python 3",
   "language": "python",
   "name": "python3"
  },
  "language_info": {
   "codemirror_mode": {
    "name": "ipython",
    "version": 2
   },
   "file_extension": ".py",
   "mimetype": "text/x-python",
   "name": "python",
   "nbconvert_exporter": "python",
   "pygments_lexer": "ipython2",
   "version": "2.7.6"
  }
 },
 "nbformat": 4,
 "nbformat_minor": 0
}
