{
 "cells": [
  {
   "cell_type": "code",
   "execution_count": 9,
   "metadata": {
    "collapsed": true
   },
   "outputs": [],
   "source": [
    "from pyspark.sql import SparkSession\n",
    "from pyspark.sql.types import *\n",
    "from Packages import sparkBuilder as sB\n",
    "\n",
    "if __name__ == \"__main__\":\n",
    "    spark = sB.build()  #Xây SparkSession thì mới chạy được trên PyCharm"
   ]
  },
  {
   "cell_type": "code",
   "execution_count": 10,
   "outputs": [
    {
     "name": "stdout",
     "output_type": "stream",
     "text": [
      "+---+-----+\n",
      "| id| name|\n",
      "+---+-----+\n",
      "|  1|Phuoc|\n",
      "|  2|  Loc|\n",
      "+---+-----+\n",
      "\n",
      "root\n",
      " |-- id: long (nullable = true)\n",
      " |-- name: string (nullable = true)\n",
      "\n"
     ]
    }
   ],
   "source": [
    "data=[(1,'Phuoc'),(2,'Loc')]\n",
    "columns=['id','name']\n",
    "df=spark.createDataFrame(data=data,schema=columns)\n",
    "df.show()\n",
    "df.printSchema() #In ra kiểu dữ liệu của từng cột"
   ],
   "metadata": {
    "collapsed": false
   }
  },
  {
   "cell_type": "code",
   "execution_count": 11,
   "outputs": [
    {
     "name": "stdout",
     "output_type": "stream",
     "text": [
      "+---+-----+-------+\n",
      "| id| name|new_col|\n",
      "+---+-----+-------+\n",
      "|  1|Phuoc|content|\n",
      "|  2|  Loc|content|\n",
      "+---+-----+-------+\n",
      "\n"
     ]
    }
   ],
   "source": [
    "from pyspark.sql.functions import lit\n",
    "df1 = df.withColumn('new_col',lit('content')) #Tạo ra cột mới tên là new_col với nội dung là content\n",
    "df1.show()"
   ],
   "metadata": {
    "collapsed": false
   }
  },
  {
   "cell_type": "code",
   "execution_count": 12,
   "outputs": [
    {
     "name": "stdout",
     "output_type": "stream",
     "text": [
      "+-----+\n",
      "| name|\n",
      "+-----+\n",
      "|Phuoc|\n",
      "|  Loc|\n",
      "+-----+\n",
      "\n",
      "+-----+\n",
      "| name|\n",
      "+-----+\n",
      "|Phuoc|\n",
      "|  Loc|\n",
      "+-----+\n",
      "\n",
      "+-----+\n",
      "| name|\n",
      "+-----+\n",
      "|Phuoc|\n",
      "|  Loc|\n",
      "+-----+\n",
      "\n"
     ]
    }
   ],
   "source": [
    "#Simple ways to access a column\n",
    "df1.select(df1.name).show()\n",
    "df1.select(df1['name']).show()\n",
    "df1.select('name').show()"
   ],
   "metadata": {
    "collapsed": false
   }
  },
  {
   "cell_type": "code",
   "execution_count": 13,
   "outputs": [
    {
     "name": "stdout",
     "output_type": "stream",
     "text": [
      "+---+-----+-------------+\n",
      "| id| name|        props|\n",
      "+---+-----+-------------+\n",
      "|  1|Phuoc|{black, blue}|\n",
      "|  2|  Loc| {brown, red}|\n",
      "+---+-----+-------------+\n",
      "\n"
     ]
    }
   ],
   "source": [
    "data=[(1,'Phuoc',('black','blue')),(2,'Loc',('brown','red'))]\n",
    "\n",
    "propsType=StructType([StructField('hair',StringType()),\n",
    "                     StructField('eye',StringType())])\n",
    "\n",
    "columns=StructType([StructField('id',IntegerType()),\\\n",
    "                    StructField('name',StringType()),\n",
    "                    StructField('props',propsType)])\n",
    "df=spark.createDataFrame(data=data,schema=columns)\n",
    "df.show()"
   ],
   "metadata": {
    "collapsed": false
   }
  },
  {
   "cell_type": "code",
   "execution_count": 15,
   "outputs": [
    {
     "name": "stdout",
     "output_type": "stream",
     "text": [
      "root\n",
      " |-- id: integer (nullable = true)\n",
      " |-- name: string (nullable = true)\n",
      " |-- props: struct (nullable = true)\n",
      " |    |-- hair: string (nullable = true)\n",
      " |    |-- eye: string (nullable = true)\n",
      "\n"
     ]
    }
   ],
   "source": [
    "df.printSchema()"
   ],
   "metadata": {
    "collapsed": false
   }
  },
  {
   "cell_type": "code",
   "execution_count": 17,
   "outputs": [
    {
     "name": "stdout",
     "output_type": "stream",
     "text": [
      "+-----+----------+\n",
      "| name|props.hair|\n",
      "+-----+----------+\n",
      "|Phuoc|     black|\n",
      "|  Loc|     brown|\n",
      "+-----+----------+\n",
      "\n",
      "+-----+---------+\n",
      "| name|props.eye|\n",
      "+-----+---------+\n",
      "|Phuoc|     blue|\n",
      "|  Loc|      red|\n",
      "+-----+---------+\n",
      "\n"
     ]
    }
   ],
   "source": [
    "df.select(df.name,df.props.hair).show()\n",
    "df.select(df.name,df.props.eye).show()"
   ],
   "metadata": {
    "collapsed": false
   }
  }
 ],
 "metadata": {
  "kernelspec": {
   "display_name": "Python 3",
   "language": "python",
   "name": "python3"
  },
  "language_info": {
   "codemirror_mode": {
    "name": "ipython",
    "version": 2
   },
   "file_extension": ".py",
   "mimetype": "text/x-python",
   "name": "python",
   "nbconvert_exporter": "python",
   "pygments_lexer": "ipython2",
   "version": "2.7.6"
  }
 },
 "nbformat": 4,
 "nbformat_minor": 0
}
