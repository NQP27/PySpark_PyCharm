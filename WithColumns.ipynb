{
 "cells": [
  {
   "cell_type": "code",
   "execution_count": 47,
   "metadata": {
    "collapsed": true
   },
   "outputs": [],
   "source": [
    "from pyspark.sql import SparkSession\n",
    "from pyspark.sql.types import *\n",
    "from Packages import sparkBuilder as sB\n",
    "from pyspark.sql.functions import col,lit"
   ]
  },
  {
   "cell_type": "code",
   "execution_count": 48,
   "outputs": [],
   "source": [
    "if __name__==\"__main__\":\n",
    "    spark=sB.build()  #Xây SparkSession thì mới chạy được trên PyCharm"
   ],
   "metadata": {
    "collapsed": false
   }
  },
  {
   "cell_type": "code",
   "execution_count": 49,
   "outputs": [
    {
     "name": "stdout",
     "output_type": "stream",
     "text": [
      "+---+-----+--------+---+\n",
      "| id| name| address|age|\n",
      "+---+-----+--------+---+\n",
      "|  1|Phuoc|ThaiBinh| 20|\n",
      "|  2|  Loc|   HaNoi| 21|\n",
      "+---+-----+--------+---+\n",
      "\n"
     ]
    }
   ],
   "source": [
    "data=[(1,'Phuoc','ThaiBinh','20'),(2,'Loc','HaNoi','21')]\n",
    "columns=['id','name','address','age']\n",
    "df=spark.createDataFrame(data=data,schema=columns)\n",
    "df.show()"
   ],
   "metadata": {
    "collapsed": false
   }
  },
  {
   "cell_type": "code",
   "execution_count": 50,
   "outputs": [
    {
     "name": "stdout",
     "output_type": "stream",
     "text": [
      "root\n",
      " |-- id: long (nullable = true)\n",
      " |-- name: string (nullable = true)\n",
      " |-- address: string (nullable = true)\n",
      " |-- age: string (nullable = true)\n",
      "\n"
     ]
    }
   ],
   "source": [
    "df.printSchema()"
   ],
   "metadata": {
    "collapsed": false
   }
  },
  {
   "cell_type": "code",
   "execution_count": 51,
   "outputs": [
    {
     "name": "stdout",
     "output_type": "stream",
     "text": [
      "+---+-----+--------+---+\n",
      "| id| name| address|age|\n",
      "+---+-----+--------+---+\n",
      "|  1|Phuoc|ThaiBinh| 20|\n",
      "|  2|  Loc|   HaNoi| 21|\n",
      "+---+-----+--------+---+\n",
      "\n"
     ]
    }
   ],
   "source": [
    "df1=df.withColumn('age',df.age.cast(\"Integer\")) # Đổi datatype của cột age từ string thành integer\n",
    "# df1=df.withColumn('age2',df.age.cast(\"Integer\")) : Thêm một cột mới tên là age2 , kiểu dữ liệu integer\n",
    "df1.show()"
   ],
   "metadata": {
    "collapsed": false
   }
  },
  {
   "cell_type": "code",
   "execution_count": 52,
   "outputs": [
    {
     "name": "stdout",
     "output_type": "stream",
     "text": [
      "+---+-----+--------+---+\n",
      "| id| name| address|age|\n",
      "+---+-----+--------+---+\n",
      "|  1|Phuoc|ThaiBinh| 40|\n",
      "|  2|  Loc|   HaNoi| 42|\n",
      "+---+-----+--------+---+\n",
      "\n"
     ]
    }
   ],
   "source": [
    "df1=df.withColumn('age',df.age.cast(\"Integer\") * 2)\n",
    "df1.show()"
   ],
   "metadata": {
    "collapsed": false
   }
  },
  {
   "cell_type": "code",
   "execution_count": 53,
   "outputs": [
    {
     "name": "stdout",
     "output_type": "stream",
     "text": [
      "Help on function lit in module pyspark.sql.functions:\n",
      "\n",
      "lit(col: Any) -> pyspark.sql.column.Column\n",
      "    Creates a :class:`~pyspark.sql.Column` of literal value.\n",
      "    \n",
      "    .. versionadded:: 1.3.0\n",
      "    \n",
      "    .. versionchanged:: 3.4.0\n",
      "        Supports Spark Connect.\n",
      "    \n",
      "    Parameters\n",
      "    ----------\n",
      "    col : :class:`~pyspark.sql.Column`, str, int, float, bool or list, NumPy literals or ndarray.\n",
      "        the value to make it as a PySpark literal. If a column is passed,\n",
      "        it returns the column as is.\n",
      "    \n",
      "        .. versionchanged:: 3.4.0\n",
      "            Since 3.4.0, it supports the list type.\n",
      "    \n",
      "    Returns\n",
      "    -------\n",
      "    :class:`~pyspark.sql.Column`\n",
      "        the literal instance.\n",
      "    \n",
      "    Examples\n",
      "    --------\n",
      "    >>> df = spark.range(1)\n",
      "    >>> df.select(lit(5).alias('height'), df.id).show()\n",
      "    +------+---+\n",
      "    |height| id|\n",
      "    +------+---+\n",
      "    |     5|  0|\n",
      "    +------+---+\n",
      "    \n",
      "    Create a literal from a list.\n",
      "    \n",
      "    >>> spark.range(1).select(lit([1, 2, 3])).show()\n",
      "    +--------------+\n",
      "    |array(1, 2, 3)|\n",
      "    +--------------+\n",
      "    |     [1, 2, 3]|\n",
      "    +--------------+\n",
      "\n",
      "None\n"
     ]
    }
   ],
   "source": [
    "print(help(lit))"
   ],
   "metadata": {
    "collapsed": false
   }
  },
  {
   "cell_type": "code",
   "execution_count": 57,
   "outputs": [
    {
     "name": "stdout",
     "output_type": "stream",
     "text": [
      "+---+-----+--------+---+-------+\n",
      "| id| name| address|age|country|\n",
      "+---+-----+--------+---+-------+\n",
      "|  1|Phuoc|ThaiBinh| 40|VietNam|\n",
      "|  2|  Loc|   HaNoi| 42|VietNam|\n",
      "+---+-----+--------+---+-------+\n",
      "\n"
     ]
    }
   ],
   "source": [
    "df1=df1.withColumn('country',lit('VietNam')) # Tạo cột mới tên country\n",
    "df1.show()"
   ],
   "metadata": {
    "collapsed": false
   }
  },
  {
   "cell_type": "code",
   "execution_count": 58,
   "outputs": [
    {
     "name": "stdout",
     "output_type": "stream",
     "text": [
      "+---+-----+--------+---+-------+\n",
      "| id| name| address|age| nation|\n",
      "+---+-----+--------+---+-------+\n",
      "|  1|Phuoc|ThaiBinh| 40|VietNam|\n",
      "|  2|  Loc|   HaNoi| 42|VietNam|\n",
      "+---+-----+--------+---+-------+\n",
      "\n"
     ]
    }
   ],
   "source": [
    "df1=df1.withColumnRenamed('country','nation') # Đổi tên cột country thành nation\n",
    "df1.show()"
   ],
   "metadata": {
    "collapsed": false
   }
  },
  {
   "cell_type": "code",
   "execution_count": null,
   "outputs": [],
   "source": [],
   "metadata": {
    "collapsed": false
   }
  }
 ],
 "metadata": {
  "kernelspec": {
   "display_name": "Python 3",
   "language": "python",
   "name": "python3"
  },
  "language_info": {
   "codemirror_mode": {
    "name": "ipython",
    "version": 2
   },
   "file_extension": ".py",
   "mimetype": "text/x-python",
   "name": "python",
   "nbconvert_exporter": "python",
   "pygments_lexer": "ipython2",
   "version": "2.7.6"
  }
 },
 "nbformat": 4,
 "nbformat_minor": 0
}
