{
 "cells": [
  {
   "cell_type": "code",
   "execution_count": 1,
   "metadata": {
    "collapsed": true
   },
   "outputs": [],
   "source": [
    "from pyspark.sql import SparkSession\n",
    "from pyspark.sql.types import *\n",
    "from Packages import sparkBuilder as sB\n",
    "from pyspark.sql.functions import array\n",
    "\n",
    "if __name__ == \"__main__\":\n",
    "    spark = sB.build()  #Xây SparkSession thì mới chạy được trên PyCharm"
   ]
  },
  {
   "cell_type": "code",
   "execution_count": 2,
   "outputs": [
    {
     "name": "stdout",
     "output_type": "stream",
     "text": [
      "+----+----+\n",
      "|num1|num2|\n",
      "+----+----+\n",
      "|  27|   2|\n",
      "|  20|   3|\n",
      "+----+----+\n",
      "\n"
     ]
    }
   ],
   "source": [
    "data1=[(27,2),(20,3)]\n",
    "columns1=['num1','num2']\n",
    "df2=spark.createDataFrame(data=data1,schema=columns1)\n",
    "df2.show()"
   ],
   "metadata": {
    "collapsed": false
   }
  },
  {
   "cell_type": "code",
   "execution_count": 3,
   "outputs": [
    {
     "name": "stdout",
     "output_type": "stream",
     "text": [
      "+----+----+-------+\n",
      "|num1|num2|numbers|\n",
      "+----+----+-------+\n",
      "|  27|   2|[27, 2]|\n",
      "|  20|   3|[20, 3]|\n",
      "+----+----+-------+\n",
      "\n"
     ]
    }
   ],
   "source": [
    "df2=df2.withColumn('numbers',array(df2.num1,df2.num2))\n",
    "df2.show()"
   ],
   "metadata": {
    "collapsed": false
   }
  },
  {
   "cell_type": "code",
   "execution_count": null,
   "outputs": [],
   "source": [
    "#array function use to create a new array column by merging the data from multiple columns"
   ],
   "metadata": {
    "collapsed": false
   }
  }
 ],
 "metadata": {
  "kernelspec": {
   "display_name": "Python 3",
   "language": "python",
   "name": "python3"
  },
  "language_info": {
   "codemirror_mode": {
    "name": "ipython",
    "version": 2
   },
   "file_extension": ".py",
   "mimetype": "text/x-python",
   "name": "python",
   "nbconvert_exporter": "python",
   "pygments_lexer": "ipython2",
   "version": "2.7.6"
  }
 },
 "nbformat": 4,
 "nbformat_minor": 0
}
