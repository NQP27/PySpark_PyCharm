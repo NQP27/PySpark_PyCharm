{
 "cells": [
  {
   "cell_type": "code",
   "execution_count": 1,
   "metadata": {
    "collapsed": true
   },
   "outputs": [],
   "source": [
    "from pyspark.sql import SparkSession\n",
    "from pyspark.sql.types import *\n",
    "from Packages import sparkBuilder as sB\n",
    "\n",
    "if __name__ == \"__main__\":\n",
    "    spark = sB.build()  #Xây SparkSession thì mới chạy được trên PyCharm"
   ]
  },
  {
   "cell_type": "code",
   "execution_count": 2,
   "outputs": [
    {
     "name": "stdout",
     "output_type": "stream",
     "text": [
      "+---+-----+------+\n",
      "| id| name|gender|\n",
      "+---+-----+------+\n",
      "|  1|Phuoc|     M|\n",
      "|  2| Ngoc|     F|\n",
      "|  3| Hung|      |\n",
      "+---+-----+------+\n",
      "\n"
     ]
    }
   ],
   "source": [
    "data= [(1,'Phuoc','M'),(2,'Ngoc','F'),(3,'Hung','')]\n",
    "columns=['id','name','gender']\n",
    "df = spark.createDataFrame(data,columns)\n",
    "df.show()"
   ],
   "metadata": {
    "collapsed": false
   }
  },
  {
   "cell_type": "code",
   "execution_count": 6,
   "outputs": [
    {
     "name": "stdout",
     "output_type": "stream",
     "text": [
      "+---+-----+-------+\n",
      "| id| name| gender|\n",
      "+---+-----+-------+\n",
      "|  1|Phuoc|   male|\n",
      "|  2| Ngoc| female|\n",
      "|  3| Hung|unknown|\n",
      "+---+-----+-------+\n",
      "\n"
     ]
    }
   ],
   "source": [
    "from pyspark.sql.functions import when\n",
    "df1= df.select(df.id,df.name,\n",
    "               when(df.gender == 'F','female').\n",
    "               when(df.gender=='M','male').\n",
    "               otherwise('unknown').alias('gender'))\n",
    "df1.show()"
   ],
   "metadata": {
    "collapsed": false
   }
  }
 ],
 "metadata": {
  "kernelspec": {
   "display_name": "Python 3",
   "language": "python",
   "name": "python3"
  },
  "language_info": {
   "codemirror_mode": {
    "name": "ipython",
    "version": 2
   },
   "file_extension": ".py",
   "mimetype": "text/x-python",
   "name": "python",
   "nbconvert_exporter": "python",
   "pygments_lexer": "ipython2",
   "version": "2.7.6"
  }
 },
 "nbformat": 4,
 "nbformat_minor": 0
}
