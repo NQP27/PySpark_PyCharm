{
 "cells": [
  {
   "cell_type": "code",
   "execution_count": 2,
   "metadata": {
    "collapsed": true
   },
   "outputs": [],
   "source": [
    "from pyspark.sql import SparkSession\n",
    "from pyspark.sql.types import *\n",
    "from Packages import sparkBuilder as sB\n",
    "\n",
    "if __name__ == \"__main__\":\n",
    "    spark = sB.build()  #Xây SparkSession thì mới chạy được trên PyCharm"
   ]
  },
  {
   "cell_type": "code",
   "execution_count": 4,
   "outputs": [
    {
     "name": "stdout",
     "output_type": "stream",
     "text": [
      "+---+-----+----------------------------+\n",
      "|id |name |properties                  |\n",
      "+---+-----+----------------------------+\n",
      "|1  |Phuoc|{eye -> blue, hair -> black}|\n",
      "|2  |Loc  |{eye -> brown, hair -> red} |\n",
      "+---+-----+----------------------------+\n",
      "\n"
     ]
    }
   ],
   "source": [
    "data = [(1, 'Phuoc', {'hair': 'black', 'eye':'blue'}), (2, 'Loc', {'hair': 'red', 'eye': 'brown'})]\n",
    "columns=['id', 'name', 'properties']\n",
    "df = spark.createDataFrame(data,columns)\n",
    "df.show(truncate=False) #Hien toan bo dong"
   ],
   "metadata": {
    "collapsed": false
   }
  },
  {
   "cell_type": "code",
   "execution_count": 10,
   "outputs": [
    {
     "name": "stdout",
     "output_type": "stream",
     "text": [
      "+---+-----+----------------------------+\n",
      "|id |name |properties                  |\n",
      "+---+-----+----------------------------+\n",
      "|1  |Phuoc|{eye -> blue, hair -> black}|\n",
      "|2  |Loc  |{eye -> brown, hair -> red} |\n",
      "+---+-----+----------------------------+\n",
      "\n"
     ]
    }
   ],
   "source": [
    "df1 = spark.createDataFrame(data=data,schema=StructType([StructField('id',IntegerType()),\n",
    "                            StructField('name',StringType()),\n",
    "                            StructField('properties',MapType(StringType(),StringType()))]))\n",
    "df1.show(truncate=False)"
   ],
   "metadata": {
    "collapsed": false
   }
  },
  {
   "cell_type": "code",
   "execution_count": 17,
   "outputs": [
    {
     "name": "stdout",
     "output_type": "stream",
     "text": [
      "+---+-----+----------------------------+-----+\n",
      "|id |name |properties                  |hair |\n",
      "+---+-----+----------------------------+-----+\n",
      "|1  |Phuoc|{eye -> blue, hair -> black}|black|\n",
      "|2  |Loc  |{eye -> brown, hair -> red} |red  |\n",
      "+---+-----+----------------------------+-----+\n",
      "\n",
      "+---+-----+----------------------------+-----+\n",
      "|id |name |properties                  |eye  |\n",
      "+---+-----+----------------------------+-----+\n",
      "|1  |Phuoc|{eye -> blue, hair -> black}|blue |\n",
      "|2  |Loc  |{eye -> brown, hair -> red} |brown|\n",
      "+---+-----+----------------------------+-----+\n",
      "\n"
     ]
    }
   ],
   "source": [
    "df2=df.withColumn('hair',df.properties['hair'])\n",
    "df2.show(truncate=False)\n",
    "df2=df.withColumn('eye',df.properties.getItem('eye'))\n",
    "df2.show(truncate=False)"
   ],
   "metadata": {
    "collapsed": false
   }
  }
 ],
 "metadata": {
  "kernelspec": {
   "display_name": "Python 3",
   "language": "python",
   "name": "python3"
  },
  "language_info": {
   "codemirror_mode": {
    "name": "ipython",
    "version": 2
   },
   "file_extension": ".py",
   "mimetype": "text/x-python",
   "name": "python",
   "nbconvert_exporter": "python",
   "pygments_lexer": "ipython2",
   "version": "2.7.6"
  }
 },
 "nbformat": 4,
 "nbformat_minor": 0
}
