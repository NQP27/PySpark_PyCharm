{
 "cells": [
  {
   "cell_type": "code",
   "execution_count": 20,
   "metadata": {
    "collapsed": true
   },
   "outputs": [],
   "source": [
    "from pyspark.sql import SparkSession\n",
    "from pyspark.sql.types import *\n",
    "from Packages import sparkBuilder as sB\n",
    "from pyspark.sql.functions import array"
   ]
  },
  {
   "cell_type": "code",
   "execution_count": 21,
   "outputs": [],
   "source": [
    "if __name__==\"__main__\":\n",
    "    spark=sB.build()  #Xây SparkSession thì mới chạy được trên PyCharm"
   ],
   "metadata": {
    "collapsed": false
   }
  },
  {
   "cell_type": "code",
   "execution_count": 22,
   "outputs": [],
   "source": [
    "data=[('abc',[1,2]),('mno',[4,7]),('efg',[10,11])]\n",
    "# columns=['id','number']\n",
    "columns=StructType([StructField('id',StringType()),\\\n",
    "                    StructField('number',ArrayType(IntegerType()))])\n",
    "df=spark.createDataFrame(data=data,schema=columns)"
   ],
   "metadata": {
    "collapsed": false
   }
  },
  {
   "cell_type": "code",
   "execution_count": 23,
   "outputs": [
    {
     "name": "stdout",
     "output_type": "stream",
     "text": [
      "+---+--------+\n",
      "| id|  number|\n",
      "+---+--------+\n",
      "|abc|  [1, 2]|\n",
      "|mno|  [4, 7]|\n",
      "|efg|[10, 11]|\n",
      "+---+--------+\n",
      "\n",
      "root\n",
      " |-- id: string (nullable = true)\n",
      " |-- number: array (nullable = true)\n",
      " |    |-- element: integer (containsNull = true)\n",
      "\n"
     ]
    }
   ],
   "source": [
    "df.show()\n",
    "df.printSchema()"
   ],
   "metadata": {
    "collapsed": false
   }
  },
  {
   "cell_type": "code",
   "execution_count": 24,
   "outputs": [
    {
     "name": "stdout",
     "output_type": "stream",
     "text": [
      "+---+--------+-----------+----------+\n",
      "| id|  number|firstNumber|lastNumebr|\n",
      "+---+--------+-----------+----------+\n",
      "|abc|  [1, 2]|          1|         2|\n",
      "|mno|  [4, 7]|          4|         7|\n",
      "|efg|[10, 11]|         10|        11|\n",
      "+---+--------+-----------+----------+\n",
      "\n"
     ]
    }
   ],
   "source": [
    "df1=df.withColumn('firstNumber',df.number[0])\n",
    "df1=df1.withColumn('lastNumebr',df.number[1])\n",
    "df1.show()"
   ],
   "metadata": {
    "collapsed": false
   }
  },
  {
   "cell_type": "code",
   "execution_count": 25,
   "outputs": [
    {
     "name": "stdout",
     "output_type": "stream",
     "text": [
      "+----+----+\n",
      "|num1|num2|\n",
      "+----+----+\n",
      "|  27|   2|\n",
      "|  20|   3|\n",
      "+----+----+\n",
      "\n"
     ]
    }
   ],
   "source": [
    "data1=[(27,2),(20,3)]\n",
    "columns1=['num1','num2']\n",
    "df2=spark.createDataFrame(data=data1,schema=columns1)\n",
    "df2.show()"
   ],
   "metadata": {
    "collapsed": false
   }
  },
  {
   "cell_type": "code",
   "execution_count": 26,
   "outputs": [
    {
     "name": "stdout",
     "output_type": "stream",
     "text": [
      "+----+----+-------+\n",
      "|num1|num2|numbers|\n",
      "+----+----+-------+\n",
      "|  27|   2|[27, 2]|\n",
      "|  20|   3|[20, 3]|\n",
      "+----+----+-------+\n",
      "\n"
     ]
    }
   ],
   "source": [
    "df2=df2.withColumn('numbers',array(df2.num1,df2.num2))\n",
    "df2.show()"
   ],
   "metadata": {
    "collapsed": false
   }
  },
  {
   "cell_type": "code",
   "execution_count": 26,
   "outputs": [],
   "source": [],
   "metadata": {
    "collapsed": false
   }
  }
 ],
 "metadata": {
  "kernelspec": {
   "display_name": "Python 3",
   "language": "python",
   "name": "python3"
  },
  "language_info": {
   "codemirror_mode": {
    "name": "ipython",
    "version": 2
   },
   "file_extension": ".py",
   "mimetype": "text/x-python",
   "name": "python",
   "nbconvert_exporter": "python",
   "pygments_lexer": "ipython2",
   "version": "2.7.6"
  }
 },
 "nbformat": 4,
 "nbformat_minor": 0
}
