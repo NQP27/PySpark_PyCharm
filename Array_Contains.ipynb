{
 "cells": [
  {
   "cell_type": "code",
   "execution_count": 2,
   "metadata": {
    "collapsed": true
   },
   "outputs": [],
   "source": [
    "from pyspark.sql import SparkSession\n",
    "from pyspark.sql.types import *\n",
    "from Packages import sparkBuilder as sB\n",
    "from pyspark.sql.functions import array_contains\n",
    "\n",
    "if __name__ == \"__main__\":\n",
    "    spark = sB.build()  #Xây SparkSession thì mới chạy được trên PyCharm"
   ]
  },
  {
   "cell_type": "code",
   "execution_count": 10,
   "outputs": [
    {
     "name": "stdout",
     "output_type": "stream",
     "text": [
      "+---+-----+------------------+\n",
      "| id| name|            skills|\n",
      "+---+-----+------------------+\n",
      "|  1|Phuoc|     [c++, python]|\n",
      "|  2|  Loc|[java, javascript]|\n",
      "|  3|Quang|          [R, ETH]|\n",
      "+---+-----+------------------+\n",
      "\n"
     ]
    }
   ],
   "source": [
    "data=[(1,'Phuoc',['c++','python']),(2,'Loc',['java','javascript']),(3,'Quang',['R','ETH'])]\n",
    "schema=['id','name','skills']\n",
    "df=spark.createDataFrame(data,schema)\n",
    "df.show()"
   ],
   "metadata": {
    "collapsed": false
   }
  },
  {
   "cell_type": "code",
   "execution_count": 11,
   "outputs": [
    {
     "name": "stdout",
     "output_type": "stream",
     "text": [
      "+---+-----+------------------+---------------+\n",
      "| id| name|            skills|HasPythonSkill?|\n",
      "+---+-----+------------------+---------------+\n",
      "|  1|Phuoc|     [c++, python]|           true|\n",
      "|  2|  Loc|[java, javascript]|          false|\n",
      "|  3|Quang|          [R, ETH]|          false|\n",
      "+---+-----+------------------+---------------+\n",
      "\n"
     ]
    }
   ],
   "source": [
    "df1=df.withColumn('HasPythonSkill?',array_contains('skills','python'))\n",
    "df1.show()"
   ],
   "metadata": {
    "collapsed": false
   }
  },
  {
   "cell_type": "code",
   "execution_count": null,
   "outputs": [],
   "source": [
    "#array_contains function is used to check if array column contains a value"
   ],
   "metadata": {
    "collapsed": false
   }
  }
 ],
 "metadata": {
  "kernelspec": {
   "display_name": "Python 3",
   "language": "python",
   "name": "python3"
  },
  "language_info": {
   "codemirror_mode": {
    "name": "ipython",
    "version": 2
   },
   "file_extension": ".py",
   "mimetype": "text/x-python",
   "name": "python",
   "nbconvert_exporter": "python",
   "pygments_lexer": "ipython2",
   "version": "2.7.6"
  }
 },
 "nbformat": 4,
 "nbformat_minor": 0
}
