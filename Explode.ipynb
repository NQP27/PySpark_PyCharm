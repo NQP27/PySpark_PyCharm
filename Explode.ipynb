{
 "cells": [
  {
   "cell_type": "code",
   "execution_count": 10,
   "metadata": {
    "collapsed": true
   },
   "outputs": [],
   "source": [
    "from pyspark.sql import SparkSession\n",
    "from pyspark.sql.types import *\n",
    "from Packages import sparkBuilder as sB"
   ]
  },
  {
   "cell_type": "code",
   "execution_count": 11,
   "outputs": [],
   "source": [
    "if __name__==\"__main__\":\n",
    "    spark=sB.build()  #Xây SparkSession thì mới chạy được trên PyCharm"
   ],
   "metadata": {
    "collapsed": false
   }
  },
  {
   "cell_type": "code",
   "execution_count": 12,
   "outputs": [],
   "source": [
    "data=[(1,'Phuoc',['c++','python']),(2,'Loc',['java','javascript'])]\n",
    "schema=['id','name','skills']\n",
    "df=spark.createDataFrame(data,schema)"
   ],
   "metadata": {
    "collapsed": false
   }
  },
  {
   "cell_type": "code",
   "execution_count": 13,
   "outputs": [
    {
     "name": "stdout",
     "output_type": "stream",
     "text": [
      "+---+-----+------------------+\n",
      "| id| name|            skills|\n",
      "+---+-----+------------------+\n",
      "|  1|Phuoc|     [c++, python]|\n",
      "|  2|  Loc|[java, javascript]|\n",
      "+---+-----+------------------+\n",
      "\n"
     ]
    }
   ],
   "source": [
    "df.show()"
   ],
   "metadata": {
    "collapsed": false
   }
  },
  {
   "cell_type": "code",
   "execution_count": 21,
   "outputs": [],
   "source": [
    "from pyspark.sql.functions import explode"
   ],
   "metadata": {
    "collapsed": false
   }
  },
  {
   "cell_type": "code",
   "execution_count": 23,
   "outputs": [
    {
     "name": "stdout",
     "output_type": "stream",
     "text": [
      "+---+-----+------------------+----------+\n",
      "| id| name|            skills|     skill|\n",
      "+---+-----+------------------+----------+\n",
      "|  1|Phuoc|     [c++, python]|       c++|\n",
      "|  1|Phuoc|     [c++, python]|    python|\n",
      "|  2|  Loc|[java, javascript]|      java|\n",
      "|  2|  Loc|[java, javascript]|javascript|\n",
      "+---+-----+------------------+----------+\n",
      "\n"
     ]
    }
   ],
   "source": [
    "df1=df.withColumn('skill',explode('skills'))\n",
    "df1.show()"
   ],
   "metadata": {
    "collapsed": false
   }
  },
  {
   "cell_type": "code",
   "execution_count": null,
   "outputs": [],
   "source": [
    "#exlpode() function use to create a new row for each element in the given array column"
   ],
   "metadata": {
    "collapsed": false
   }
  }
 ],
 "metadata": {
  "kernelspec": {
   "display_name": "Python 3",
   "language": "python",
   "name": "python3"
  },
  "language_info": {
   "codemirror_mode": {
    "name": "ipython",
    "version": 2
   },
   "file_extension": ".py",
   "mimetype": "text/x-python",
   "name": "python",
   "nbconvert_exporter": "python",
   "pygments_lexer": "ipython2",
   "version": "2.7.6"
  }
 },
 "nbformat": 4,
 "nbformat_minor": 0
}
