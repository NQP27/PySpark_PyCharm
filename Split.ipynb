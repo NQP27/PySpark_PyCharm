{
 "cells": [
  {
   "cell_type": "code",
   "execution_count": 3,
   "metadata": {
    "collapsed": true
   },
   "outputs": [],
   "source": [
    "from pyspark.sql import SparkSession\n",
    "from pyspark.sql.types import *\n",
    "from Packages import sparkBuilder as sB\n",
    "\n",
    "if __name__ == \"__main__\":\n",
    "    spark = sB.build()  #Xây SparkSession thì mới chạy được trên PyCharm"
   ]
  },
  {
   "cell_type": "code",
   "execution_count": 4,
   "outputs": [],
   "source": [
    "data=[(1,'Phuoc','c++,python'),(2,'Loc','java,javascript')]\n",
    "schema=['id','name','skills']\n",
    "df=spark.createDataFrame(data,schema)"
   ],
   "metadata": {
    "collapsed": false
   }
  },
  {
   "cell_type": "code",
   "execution_count": 6,
   "outputs": [
    {
     "name": "stdout",
     "output_type": "stream",
     "text": [
      "+---+-----+---------------+\n",
      "| id| name|         skills|\n",
      "+---+-----+---------------+\n",
      "|  1|Phuoc|     c++,python|\n",
      "|  2|  Loc|java,javascript|\n",
      "+---+-----+---------------+\n",
      "\n",
      "+---+-----+---------------+------------------+\n",
      "| id| name|         skills|       skillsArray|\n",
      "+---+-----+---------------+------------------+\n",
      "|  1|Phuoc|     c++,python|     [c++, python]|\n",
      "|  2|  Loc|java,javascript|[java, javascript]|\n",
      "+---+-----+---------------+------------------+\n",
      "\n"
     ]
    }
   ],
   "source": [
    "from pyspark.sql.functions import split\n",
    "df.show()\n",
    "df1=df.withColumn('skillsArray',split('skills',','))\n",
    "df1.show()"
   ],
   "metadata": {
    "collapsed": false
   }
  },
  {
   "cell_type": "code",
   "execution_count": null,
   "outputs": [],
   "source": [
    "#split() function returns an array type after splitting the string column by delimiter"
   ],
   "metadata": {
    "collapsed": false
   }
  }
 ],
 "metadata": {
  "kernelspec": {
   "display_name": "Python 3",
   "language": "python",
   "name": "python3"
  },
  "language_info": {
   "codemirror_mode": {
    "name": "ipython",
    "version": 2
   },
   "file_extension": ".py",
   "mimetype": "text/x-python",
   "name": "python",
   "nbconvert_exporter": "python",
   "pygments_lexer": "ipython2",
   "version": "2.7.6"
  }
 },
 "nbformat": 4,
 "nbformat_minor": 0
}
